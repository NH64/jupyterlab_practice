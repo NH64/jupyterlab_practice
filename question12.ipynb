{
 "cells": [
  {
   "cell_type": "markdown",
   "id": "ff66ff04-9d8d-44a3-82a5-a55a82f9c43b",
   "metadata": {},
   "source": [
    "We are currently working in the following directory:"
   ]
  },
  {
   "cell_type": "code",
   "execution_count": 1,
   "id": "c6944070-4020-4ad9-9da0-9e00e97d43b0",
   "metadata": {},
   "outputs": [
    {
     "name": "stdout",
     "output_type": "stream",
     "text": [
      "/Users/nahee/Downloads/jupyterlab_practice\n"
     ]
    }
   ],
   "source": [
    "!pwd"
   ]
  },
  {
   "cell_type": "markdown",
   "id": "c5eaad09-32ef-480a-a02b-56f5e9d8d4c6",
   "metadata": {},
   "source": [
    "To time how long it takes to run a Python cell, we could use the timeit command inside a cell as is shown below: \n",
    "\n",
    "Followed by the proper use of the timeit command to time the following loop:\n",
    "\n",
    "```python\n",
    "%%timeit\n",
    "for i in range(1_000_000):\n",
    "    i**2\n",
    "```"
   ]
  },
  {
   "cell_type": "code",
   "execution_count": 2,
   "id": "803aa7e4-878d-4243-bb4d-5d5cdacda9be",
   "metadata": {},
   "outputs": [
    {
     "name": "stdout",
     "output_type": "stream",
     "text": [
      "[NbConvertApp] Converting notebook question13.ipynb to html\n",
      "[NbConvertApp] Writing 271396 bytes to question13.html\n"
     ]
    }
   ],
   "source": [
    "!jupyter nbconvert question13.ipynb \\\n",
    "    --to html \\\n",
    "    --output=question13.html \\\n",
    "    --no-input"
   ]
  }
 ],
 "metadata": {
  "kernelspec": {
   "display_name": "Python 3 (ipykernel)",
   "language": "python",
   "name": "python3"
  },
  "language_info": {
   "codemirror_mode": {
    "name": "ipython",
    "version": 3
   },
   "file_extension": ".py",
   "mimetype": "text/x-python",
   "name": "python",
   "nbconvert_exporter": "python",
   "pygments_lexer": "ipython3",
   "version": "3.10.16"
  }
 },
 "nbformat": 4,
 "nbformat_minor": 5
}
